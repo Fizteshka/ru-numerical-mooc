{
 "cells": [
  {
   "cell_type": "markdown",
   "metadata": {},
   "source": [
    "###### Content under Creative Commons Attribution license CC-BY 4.0, code under MIT license (c)2014 L.A. Barba, G.F. Forsyth, C.D. Cooper. Based on [CFD Python](https://github.com/barbagroup/CFDPython), (c)2013 L.A. Barba, also under CC-BY."
   ]
  },
  {
   "cell_type": "markdown",
   "metadata": {},
   "source": [
    "# Пространство и Время"
   ]
  },
  {
   "cell_type": "markdown",
   "metadata": {},
   "source": [
    "## Введение в конечно-разностные схемы для систем дифференциальных уравнений в частных производных"
   ]
  },
  {
   "cell_type": "markdown",
   "metadata": {},
   "source": [
    "Добро пожаловать во второй модуль *Пространство и Время: Введение в конечно-разностные схемы для систем дифференциальных уравнений в частных производных* русской версии курса [\"Practical Numerical Methods with Python\"](http://openedx.seas.gwu.edu/courses/GW/MAE6286/2014_fall/about). \n",
    "\n",
    "В первом модуле мы изучали методы численного интегрирования систем обыкновенных дифференциальных уравнений, используя в качестве иллюстрации модель фугодиного движения планера. В этом модуле мы будем изучать численное методы применительно к *системам дифференциальных уравнений в частных производных*, в которых неизвестная функция представляет собой функцией нескольких переменных. В задаче может быть не только временная переменная  $t$, но и пространственные (одна, например $x$, или несколько). Это означает, что нужно строить дискретизацию для каждой независимой переменной.\n",
    "\n",
    "Мы начнем экскурс в численнные методы для уравнений в частных производных с одномерных задач: линейого и нелинейного уравнений переноса, уравнения диффузии и уравнения Бюргерса."
   ]
  },
  {
   "cell_type": "markdown",
   "metadata": {},
   "source": [
    "## Одномерное уравнение переноса"
   ]
  },
  {
   "cell_type": "markdown",
   "metadata": {},
   "source": [
    "*Одномерное уравнение переноса* – это простейшая, наиболее общая модель, которую можно использовать для получения информации о численном решении ДУЧП. Удивительно, как много всего можно узнать из такого простого уравнения! Вот оно:\n",
    "\n",
    "\\begin{equation}\\frac{\\partial u}{\\partial t} + c \\frac{\\partial u}{\\partial x} = 0\\end{equation}\n",
    "\n",
    "Уравнение описывает распространение *волны* без изменения ее формы в направлении оси $x$ со скоростью $c$. Поэтому уравнение также часто называют *односторонним волновым уравнением*. \n",
    "\n",
    "Точное решение уравнения при начальном условии $u(x,0)=u_0(x)$ может быть записано в виде:\n",
    "\n",
    "\\begin{equation}u(x,t)=u_0(x-ct). \n",
    "\\end{equation}\n",
    "\n",
    "От пристального взгляда пытливого исследователя не скроются два свойства полученного решения:\n",
    "\n",
    "1. его форма не изменяется – исходная волна $u_0$ просто сдвигается в $x$-направлении;\n",
    "2. решение постоянно вдоль так называемых **характеритстических направлений** $x-ct=const$. Это значит, что из любой точки фазового пространства по характеристическе можно вернуться к моменту $t=0$ и определить значение решения."
   ]
  },
  {
   "cell_type": "markdown",
   "metadata": {},
   "source": [
    "![characteristics](figures/characteristics.png)\n",
    "#### Характеристические кривые для положительной скорости волны."
   ]
  },
  {
   "cell_type": "markdown",
   "metadata": {},
   "source": [
    "Почему уравнение называется *линейным*?  В линейных уравенениях неизвестная функция и ее производные участвуют только в линейных членах. То есть никаких произведений, возведений в сепень и тансцедентных функций.\n",
    "\n",
    "Какое самое важное свойство линейных уравнений? Суперпозиция решений также удовлетворяет исходному уравнению. Очень полезно!"
   ]
  },
  {
   "cell_type": "markdown",
   "metadata": {},
   "source": [
    "## Метод конечных разностей"
   ]
  },
  {
   "cell_type": "markdown",
   "metadata": {},
   "source": [
    "На предыдущих занятиях мы дискретизировали производные по времени, теперь у нас имеются производные как по пространству так и по времени, и это нужно учитывать при дискретизации уравнения.\n",
    "\n",
    "Представьте график в переменных *пространство-время*, где координаты по вертикальной оси отвечают за развитие по времени (например, между моментами времени $t^n$ и $t^{n+1}$), а по горизонтальной оси – по пространству: соответствующие точки имеют координаты $x_{i-1}$, $x_i$ и $x_{i+1}$. Такой набор образует сетку, каждый узел которой имеет как пространственный так и временной индексы. На рисунке приведено графическое представление пространственно-временной сетки: \n",
    "\n",
    "\n",
    "\\begin{matrix}\n",
    "t^{n+1} & \\rightarrow & \\bullet  && \\bullet  && \\bullet  \\\\\n",
    "t^n & \\rightarrow & \\bullet  && \\bullet  && \\bullet  \\\\\n",
    "& &  x_{i-1} && x_i && x_{i+1}\n",
    "\\end{matrix}\n",
    "\n",
    "Для численого решения $u(x,t)$ будем использовать нижний индекс для обозначения координаты в пространстве, например, $u_i$, в то время как верхний индекс будет обозначать момент времени, $u^n$. Тогда решение в верхней центральной точке нашей сетки будет обозначаться как $u^{n+1}_{i}$.\n",
    "\n",
    "Каждый узел сетки, изображенной ниже, имеет индекс $i$, соответствующий пространственному положению, и увеличивающемуся при движении слева направо, и индекс $n$, обозначающий момент времени, и увеличивающийся при движенни снизу вверх. На небольшой участке сетки решение будет примать следующие значения: \n",
    "\n",
    "\\begin{matrix}\n",
    "& &\\bullet & & \\bullet & &  \\bullet \\\\\n",
    "& &u^{n+1}_{i-1} & & u^{n+1}_i & & u^{n+1}_{i+1} \\\\\n",
    "& &\\bullet & & \\bullet & &  \\bullet \\\\\n",
    "& &u^n_{i-1} & & u^n_i & & u^n_{i+1} \\\\\n",
    "& &\\bullet & & \\bullet & &  \\bullet \\\\\n",
    "& &u^{n-1}_{i-1} & & u^{n-1}_i & & u^{n-1}_{i+1} \\\\\n",
    "\\end{matrix}\n",
    "\n",
    "Шаги приведенной выше сетки по пространству и времени постоянны и равны, соотвественно, $\\Delta x$ и $\\Delta t$, ее узлы и решение в них можно определить следующим образом:\n",
    "\n",
    "\\begin{eqnarray}\n",
    "x_i &=& i\\, \\Delta x \\quad \\text{and} \\quad t^n= n\\, \\Delta t \\nonumber \\\\\n",
    "u_i^n &=& u(i\\, \\Delta x, n\\, \\Delta t)\n",
    "\\end{eqnarray}\n"
   ]
  },
  {
   "cell_type": "markdown",
   "metadata": {},
   "source": [
    "### Дискретизация модельного уравнения"
   ]
  },
  {
   "cell_type": "markdown",
   "metadata": {},
   "source": [
    "Расмотрим дискретизацию одномерного линейного уравнения переноса по пространству и времени. По определению, частная производная по времени не влияет на изменение функции по пространству, поэтому в ее дискретном аналоге изменяются только индексы $n$. Аналогично, дискретная частная произаводная по пространству затрагивает только индексы $i$.\n",
    "\n",
    "Представим пространственную координату $x$ в виде набора точек с индексами от $i=0$ до $N$, а изменение времени будем измерять в шагах размера $\\Delta t$.\n",
    "\n",
    "Из определения производной (опуская в нем предельный переход) известно, что при достаточно малом шаге $\\Delta x$ буде верным\n",
    "\n",
    "\\begin{equation}\\frac{\\partial u}{\\partial x}\\approx \\frac{u(x+\\Delta x)-u(x)}{\\Delta x}\\end{equation}\n",
    "\n",
    "Эту формулу можно записать для любой точки $x_i$. Заметим, что это не единственный способ оценки величины производной. Геометрический смысл производной $\\partial u/ \\partial x$ заключается в том что она яаляетсятангенсом угла наклона касательной к кривой $u(x)$. На рисунке касательная линиия к кривой $u(x)$ в точке $x_i$ обозначена как \"exact.\" Если записать выписанную выше формулу для точки $x_i$, то будет видно, что она аппроксимирует производную, используя следующую, правую отностиельно $x_i$, точку пространственной сетки – такую аппроксимацию называют формулой _правой разности_(_forward difference_).\n",
    "\n",
    "Но, как видно из рисунка, пространственную производную можно оценить, используя точку слева от $x_i$. Получим _левую разность_(_backward difference_). Можно даже использовать обе точки по бокам от $x_i$ и получить формулу _центральных разностей_ (правда, в этом случае в знаменателем будет $2\\Delta x$)."
   ]
  },
  {
   "cell_type": "markdown",
   "metadata": {},
   "source": [
    "![FDapproxiamtions](figures/FDapproxiamtions.png)\n",
    "#### Три конечно-разностных аппроксимации производной в точке $x_i$."
   ]
  },
  {
   "cell_type": "markdown",
   "metadata": {},
   "source": [
    "Итого, имеется три возможных представления производной $\\partial u/ \\partial x$ в дискретносм виде:\n",
    "\n",
    "* Правая разность: используются $x_i$ и $x_i + \\Delta x$;\n",
    "* Правая разность: используются $x_i$ и $x_i- \\Delta x$;\n",
    "* Центральная разность: используются две точки по разным сторонам от $x_i$.\n",
    "\n",
    "На приведенном выше рисунке можно увидеть подсказку, что одни формулы аппроксимации могут оказаться лучше других. Например, похоже, что *центральная разность* дает наиболее близкий к касательной наклон секущей линии.  Интеренсно, так ли это на самом деле, или на рисунке преувеличивает эффект. Позже мы узнаем, как ответить на этот вопрос точнее. \n",
    "\n",
    "Три получившиеся формулы:\n",
    "\n",
    "\\begin{eqnarray}\n",
    "\\frac{\\partial u}{\\partial x} & \\approx & \\frac{u(x_{i+1})-u(x_i)}{\\Delta x} \\quad\\text{Forward}\\\\\n",
    "\\frac{\\partial u}{\\partial x} & \\approx & \\frac{u(x_i)-u(x_{i-1})}{\\Delta x} \\quad\\text{Backward}\\\\\n",
    "\\frac{\\partial u}{\\partial x} & \\approx & \\frac{u(x_{i+1})-u(x_{i-1})}{2\\Delta x} \\quad\\text{Central}\n",
    "\\end{eqnarray}\n",
    "\n",
    "\n",
    "Метод Эйлера эквивалентен схеме правых разностей. Оставим это как есть, а для пространственной производной возьмем левую разность. Тогда уравнение после дискретизации будет выглядеть следующим образом:\n",
    "\n",
    "\\begin{equation}\\frac{u_i^{n+1}-u_i^n}{\\Delta t} + c \\frac{u_i^n - u_{i-1}^n}{\\Delta x} = 0, \\end{equation}\n",
    "\n",
    "где $n$ и $n+1$ – два последовательных шага по времени, а $i-1$ и $i$ – две соседних точки на оси $x$. При заданных начальных условиях единственным неизвестным является $u_i^{n+1}$. Разрешив уравнение относительно неизвестного, получим зависимость, позволяющую шагать по времени:\n",
    "\n",
    "\n",
    "\\begin{equation}u_i^{n+1} = u_i^n - c \\frac{\\Delta t}{\\Delta x}(u_i^n-u_{i-1}^n)\\end{equation}\n",
    "\n",
    "Можно изобразить часть расчетной сетки, отметив на ней узлы, которые участвуют в каждом шаге получения решения. Получим **шаблон** численной схемы. Ниже представлен шаблон численной схемы для рассматриваемого модельного уравнения, формулы для которой мы выписали."
   ]
  },
  {
   "cell_type": "markdown",
   "metadata": {},
   "source": [
    "![FTBS_stencil](figures/FTBS_stencil.png)\n",
    "#### Шаблон для схемы \"левый уголок\"."
   ]
  },
  {
   "cell_type": "markdown",
   "metadata": {},
   "source": [
    "## И вычисляем!"
   ]
  },
  {
   "cell_type": "markdown",
   "metadata": {},
   "source": [
    "Ок, выпускайте питона! Первым делом, как обычно, импортируем необходимые библиотеки и задаем глобальные настройки отображения текста на графиках."
   ]
  },
  {
   "cell_type": "code",
   "execution_count": 3,
   "metadata": {
    "collapsed": false
   },
   "outputs": [],
   "source": [
    "import numpy                       \n",
    "from matplotlib import pyplot                 \n",
    "%matplotlib inline\n",
    "from matplotlib import rcParams\n",
    "rcParams['font.family'] = 'serif'\n",
    "rcParams['font.size'] = 16"
   ]
  },
  {
   "cell_type": "markdown",
   "metadata": {},
   "source": [
    "В качестве первого упражнения решим одномерное линейное уравнение переноса с начальным усовием в виде *квадратной волны*, которое задается следующим образом:\n",
    "\n",
    "\\begin{equation}\n",
    "u(x,0)=\\begin{cases}2 & \\text{при } 0.5\\leq x \\leq 1,\\\\\n",
    "1 & \\text{в остальных случаях в интервале } (0, 2)\n",
    "\\end{cases}\n",
    "\\end{equation}\n",
    "\n",
    "Нам также понадобятся граничные условия для $x$: пусть $u=1$ при $x=0$. Расчетная область для численного решения ограничена интервалом $x\\in (0, 2)$."
   ]
  },
  {
   "cell_type": "markdown",
   "metadata": {},
   "source": [
    "![squarewave](figures/squarewave.png)\n",
    "#### Начальное условие в виде квадратной волны"
   ]
  },
  {
   "cell_type": "markdown",
   "metadata": {},
   "source": [
    "Теперь определим несколько переменных; нам нужно равномерно распрелить узлы расчетной сетки в гарницах расчетной области. Определяем переменную `nx` для чилса пространственных узлов сетки и переменную `dx`, в которую будет записана величина шага сетки по пространству. Кроме этого, определим величину шага по времени `dt` и число таких шагов `nt`. Волновую скорость для простоты примем равной единице, $c=1$."
   ]
  },
  {
   "cell_type": "code",
   "execution_count": 4,
   "metadata": {
    "collapsed": false
   },
   "outputs": [],
   "source": [
    "nx = 41  # try changing this number from 41 to 81 and Run All ... what happens?\n",
    "dx = 2/(nx-1)\n",
    "nt = 25    \n",
    "dt = .02  \n",
    "c = 1      #assume wavespeed of c = 1\n",
    "x = numpy.linspace(0,2,nx)"
   ]
  },
  {
   "cell_type": "markdown",
   "metadata": {},
   "source": [
    "Еще нужно задать начальные условия. Используем NumPy функцию `ones()` для того, чтобы задать масссив в `nx` элементов длиной, состоящий из единиц. Очень полезная функция! А теперь *изменим все элементы среза* с единицы на двойку, чтобы получилась ступенька, и выведем результат, чтобы насладиться им. Какие же элементы нам нужно изменить? По условиям задачи, те, индексы которых совпадют с индексами элемнтов массива `x`, лежащих в интервале от  $x = 0.5$ до $x = 1$.\n",
    "\n",
    "Чтобы получить список индексов, удовлетворяющих какому-то условию, можно использовать функцию `numpy.where`."
   ]
  },
  {
   "cell_type": "code",
   "execution_count": 5,
   "metadata": {
    "collapsed": false
   },
   "outputs": [
    {
     "name": "stdout",
     "output_type": "stream",
     "text": [
      "(array([10, 11, 12, 13, 14, 15, 16, 17, 18, 19, 20, 21, 22, 23, 24, 25, 26,\n",
      "       27, 28, 29, 30, 31, 32, 33, 34, 35, 36, 37, 38, 39, 40]),)\n",
      "(array([ 0,  1,  2,  3,  4,  5,  6,  7,  8,  9, 10, 11, 12, 13, 14, 15, 16,\n",
      "       17, 18, 19, 20]),)\n"
     ]
    }
   ],
   "source": [
    "u = numpy.ones(nx)      #numpy function ones()\n",
    "lbound = numpy.where(x >= 0.5)\n",
    "ubound = numpy.where(x <= 1)\n",
    "\n",
    "print(lbound)\n",
    "print(ubound)"
   ]
  },
  {
   "cell_type": "markdown",
   "metadata": {},
   "source": [
    "Так мы получили два вектора: `lbound`, содержащий индексы для которых верно $x \\geq .5$, и `ubound`, для которых $x \\leq 1$. Их можно объединить при помощи функции `numpy.intersect1d`.  "
   ]
  },
  {
   "cell_type": "code",
   "execution_count": 6,
   "metadata": {
    "collapsed": false
   },
   "outputs": [
    {
     "name": "stdout",
     "output_type": "stream",
     "text": [
      "[ 1.  1.  1.  1.  1.  1.  1.  1.  1.  1.  2.  2.  2.  2.  2.  2.  2.  2.\n",
      "  2.  2.  2.  1.  1.  1.  1.  1.  1.  1.  1.  1.  1.  1.  1.  1.  1.  1.\n",
      "  1.  1.  1.  1.  1.]\n"
     ]
    }
   ],
   "source": [
    "bounds = numpy.intersect1d(lbound, ubound)\n",
    "u[bounds]=2  #setting u = 2 between 0.5 and 1 as per our I.C.s\n",
    "print(u)"
   ]
  },
  {
   "cell_type": "markdown",
   "metadata": {},
   "source": [
    "Напоминаю, что в Python можно объединить команды и записать все в одну строчку:\n",
    "\n",
    "```Python\n",
    "u[numpy.intersect1d(numpy.where(x >= 0.5), numpy.where(x <= 1))] = 2\n",
    "```\n",
    "\n",
    "но результат может оказаться трудночитаемым."
   ]
  },
  {
   "cell_type": "markdown",
   "metadata": {},
   "source": [
    "Давайте взглянем, какое начальное условие у нас получилось."
   ]
  },
  {
   "cell_type": "code",
   "execution_count": 7,
   "metadata": {
    "collapsed": false
   },
   "outputs": [
    {
     "data": {
      "image/png": "[encoded data removed]",
      "text/plain": [
       "<matplotlib.figure.Figure at 0x105257cf8>"
      ]
     },
     "metadata": {},
     "output_type": "display_data"
    }
   ],
   "source": [
    "pyplot.plot(x, u, color='#003366', ls='--', lw=3)\n",
    "pyplot.ylim(0,2.5);"
   ]
  },
  {
   "cell_type": "markdown",
   "metadata": {},
   "source": [
    "Получилось довольно близко к желаемому. Только вот стороны ступеньки не совсем вертикальные, не так ли? Почему так вышло?"
   ]
  },
  {
   "cell_type": "markdown",
   "metadata": {},
   "source": [
    "Теперь настала пора запрограммировать дискретное уравнение, которое мы выписали для уравнения переноса согласно выбранной схеме.\n",
    "\n",
    "Для каждого элемента массива `u` нужно выполнить следующую операцию:\n",
    "\n",
    "$$u_i^{n+1} = u_i^n - c \\frac{\\Delta t}{\\Delta x}(u_i^n-u_{i-1}^n)$$\n",
    "\n",
    "Для хранения результата создадим новый (временный) массив `un`, в нем будет храниться решение $u$ на следующем шаге по времени. Повтотрим эту операцию столько раз, сколько шагов по времени мы задали, и посмотрим, как далеко убежит волна.\n",
    "\n",
    "Сперва инициализируем вспомогательный массив `un` для хранения значений функции на $n+1$-ом шаге при помощи все той же функции `ones()`.\n",
    "\n",
    "Дальнейший процесс можно описать как две итерационные процедуры – одна по пространству, другая по времени. Поэтому можно начать со цикла по пространственному индексу, вложенному в цикл по времени. Код для схемы конечных разностей практически совпадает с дискретным уравнением:"
   ]
  },
  {
   "cell_type": "code",
   "execution_count": 8,
   "metadata": {
    "collapsed": false
   },
   "outputs": [],
   "source": [
    "for n in range(1,nt):  \n",
    "    un = u.copy() \n",
    "    for i in range(1,nx): \n",
    "    \n",
    "        u[i] = un[i]-c*dt/dx*(un[i]-un[i-1])"
   ]
  },
  {
   "cell_type": "markdown",
   "metadata": {},
   "source": [
    "**Замечание** – Позже мы увидим, что написанный только что код весьма неэффективен, и что существуют лучшие способы реализации алгоритма. Всему свое время.\n",
    "\n",
    "Сейчас давайте взглянем на график нашего решения после нескольких шагов по времени."
   ]
  },
  {
   "cell_type": "code",
   "execution_count": 9,
   "metadata": {
    "collapsed": false
   },
   "outputs": [
    {
     "data": {
      "image/png": "[encoded data removed]",
      "text/plain": [
       "<matplotlib.figure.Figure at 0x10d6a2f28>"
      ]
     },
     "metadata": {},
     "output_type": "display_data"
    }
   ],
   "source": [
    "pyplot.plot(x, u, color='#003366', ls='--', lw=3)\n",
    "pyplot.ylim(0,2.5);"
   ]
  },
  {
   "cell_type": "markdown",
   "metadata": {},
   "source": [
    "Забавно, исходная ступенька определенно сдвинулась вправо, но она утратила былую четкость формы! **Что же произошло?**"
   ]
  },
  {
   "cell_type": "markdown",
   "metadata": {},
   "source": [
    "##### Роем вглубь"
   ]
  },
  {
   "cell_type": "markdown",
   "metadata": {},
   "source": [
    "Решение отличается от квадратной супеньки, поскольку дискретное уравнение является аппроксимацией непрерывного дифференциального уравнения, которое мы изначально пытаемся решить. Как мы уже знаем, существуют погрешности. Но все равно, изменение формы первоначальной волны выглядит странным. Быть может, измельчение сетки исправит такое положение вещей? Почему бы не проверить это?"
   ]
  },
  {
   "cell_type": "markdown",
   "metadata": {},
   "source": [
    "## Ошибка аппроксимации"
   ]
  },
  {
   "cell_type": "markdown",
   "metadata": {},
   "source": [
    "Освежим в памяти конечно-разностную аппроксимацию, которую мы использовали для производной по пространству:\n",
    "\n",
    "\\begin{equation}\\frac{\\partial u}{\\partial x}\\approx \\frac{u(x+\\Delta x)-u(x)}{\\Delta x}\\end{equation}\n",
    "\n",
    "Она была получена из определения производной в точке путем отбрасывания предела, при допущении, что шаг $\\Delta x$ мал. По опыту изучения метода Эйлера, нам известно, такой подход о\n",
    "\n",
    "We obtain it by using the definition of the derivative at a point, and simply removing the limit, in the assumption that $\\Delta x$ is very small. But we already learned with Euler's method that this introduces an error, called the *truncation error*.\n",
    "\n",
    "Using a Taylor series expansion for the spatial terms now, we see that the backward-difference scheme produces a first-order method, in space."
   ]
  },
  {
   "cell_type": "markdown",
   "metadata": {},
   "source": [
    "\\begin{equation}\n",
    "\\frac{\\partial u}{\\partial x}(x_i) = \\frac{u(x_i)-u(x_{i-1})}{\\Delta x} + \\frac{\\Delta x}{2} \\frac{\\partial^2 u}{\\partial x^2}(x_i) - \\frac{\\Delta x^2}{6} \\frac{\\partial^3 u}{\\partial x^3}(x_i)+ \\cdots\n",
    "\\end{equation}\n",
    "\n",
    "The dominant term that is neglected in the finite-difference approximation is of $\\mathcal{O}(\\Delta x)$. We also see that the approximation *converges* to the exact derivative as $\\Delta x \\rightarrow 0$. That's good news!\n",
    "\n",
    "In summary, the chosen \"forward-time/backward space\" difference scheme is first-order in both space and time: the truncation errors are $\\mathcal{O}(\\Delta t, \\Delta x)$. We'll come back to this!"
   ]
  },
  {
   "cell_type": "markdown",
   "metadata": {},
   "source": [
    "## Non-linear convection"
   ]
  },
  {
   "cell_type": "markdown",
   "metadata": {},
   "source": [
    "Let's move on to the non-linear convection equation, using the same methods as before. The 1-D convection equation is:\n",
    "\n",
    "\\begin{equation}\\frac{\\partial u}{\\partial t} + u \\frac{\\partial u}{\\partial x} = 0\\end{equation}\n",
    "\n",
    "The only difference with the linear case is that we've replaced the constant wave speed $c$ by the variable speed $u$. The equation is non-linear because now we have a product of the solution and one of its derivatives: the product $u\\,\\partial u/\\partial x$. This changes everything!\n",
    "\n",
    "We're going to use the same discretization as for linear convection: forward difference in time and backward difference in space. Here is the discretized equation:\n",
    "\n",
    "\\begin{equation}\\frac{u_i^{n+1}-u_i^n}{\\Delta t} + u_i^n \\frac{u_i^n-u_{i-1}^n}{\\Delta x} = 0\\end{equation}\n",
    "\n",
    "Solving for the only unknown term, $u_i^{n+1}$, gives an equation that can be used to advance in time:\n",
    "\n",
    "\\begin{equation}u_i^{n+1} = u_i^n - u_i^n \\frac{\\Delta t}{\\Delta x} (u_i^n - u_{i-1}^n)\\end{equation}\n",
    "\n",
    "There is very little that needs to change from the code written so far. In fact, we'll even use the same square-wave initial condition. But let's re-initialize the variable `u` with the initial values, and re-enter the numerical parameters here, for convenience (we no longer need $c$, though)."
   ]
  },
  {
   "cell_type": "code",
   "execution_count": 8,
   "metadata": {
    "collapsed": false
   },
   "outputs": [],
   "source": [
    "##problem parameters\n",
    "nx = 41\n",
    "dx = 2/(nx-1)\n",
    "nt = 10    \n",
    "dt = .02  \n",
    "\n",
    "##initial conditions\n",
    "u = numpy.ones(nx)      \n",
    "u[numpy.intersect1d(lbound, ubound)]=2  \n",
    "\n"
   ]
  },
  {
   "cell_type": "markdown",
   "metadata": {},
   "source": [
    " How does it look?"
   ]
  },
  {
   "cell_type": "code",
   "execution_count": 9,
   "metadata": {
    "collapsed": false
   },
   "outputs": [
    {
     "data": {
      "image/png": "[encoded data removed]",
      "text/plain": [
       "<matplotlib.figure.Figure at 0x7f1d9090b128>"
      ]
     },
     "metadata": {},
     "output_type": "display_data"
    }
   ],
   "source": [
    "pyplot.plot(x, u, color='#003366', ls='--', lw=3)\n",
    "pyplot.ylim(0,2.5);"
   ]
  },
  {
   "cell_type": "markdown",
   "metadata": {},
   "source": [
    "Changing just one line of code in the solution of linear convection, we are able to now get the non-linear solution: the line that corresponds to the discrete equation now has `un[i]` in the place where before we just had `c`. So you could write something like:\n",
    "```Python\n",
    "for n in range(1,nt):  \n",
    "  un = u.copy() \n",
    "  for i in range(1,nx): \n",
    "    u[i] = un[i]-un[i]*dt/dx*(un[i]-un[i-1]) \n",
    "```\n",
    "\n",
    "We're going to be more clever than that and use NumPy to update all values of the spatial grid in one fell swoop. We don't really need to write a line of code that gets executed *for each* value of $u$ on the spatial grid. Python can update them all at once! Study the code below, and compare it with the one above. Here is a helpful sketch, to illustrate the array operation—also called a \"vectorized\" operation—for $u_i-u_{i-1}$."
   ]
  },
  {
   "cell_type": "markdown",
   "metadata": {},
   "source": [
    "![vectorizedstencil](figures/vectorizedstencil.png)\n",
    "\n",
    "<br>\n",
    "#### Sketch to explain vectorized stencil operation.  Adapted from [\"Indices point between elements\"](https://blog.nelhage.com/2015/08/indices-point-between-elements/) by Nelson Elhage.  "
   ]
  },
  {
   "cell_type": "code",
   "execution_count": 10,
   "metadata": {
    "collapsed": false
   },
   "outputs": [],
   "source": [
    "for n in range(1, nt):  \n",
    "    un = u.copy() \n",
    "    u[1:] = un[1:]-un[1:]*dt/dx*(un[1:]-un[0:-1]) \n",
    "    u[0] = 1.0"
   ]
  },
  {
   "cell_type": "code",
   "execution_count": 11,
   "metadata": {
    "collapsed": false
   },
   "outputs": [
    {
     "data": {
      "image/png": "[encoded data removed]",
      "text/plain": [
       "<matplotlib.figure.Figure at 0x7f1d9090be80>"
      ]
     },
     "metadata": {},
     "output_type": "display_data"
    }
   ],
   "source": [
    "pyplot.plot(x, u, color='#003366', ls='--', lw=3)\n",
    "pyplot.ylim(0,2.5);"
   ]
  },
  {
   "cell_type": "markdown",
   "metadata": {},
   "source": [
    "Hmm. That's quite interesting: like in the linear case, we see that we have lost the sharp sides of our initial square wave, but there's more. Now, the wave has also lost symmetry! It seems to be lagging on the rear side, while the front of the wave is steepening. Is this another form of numerical error, do you ask? No! It's physics!"
   ]
  },
  {
   "cell_type": "markdown",
   "metadata": {},
   "source": [
    "##### Dig deeper"
   ]
  },
  {
   "cell_type": "markdown",
   "metadata": {},
   "source": [
    "Think about the effect of having replaced the constant wave speed $c$ by the variable speed given by the solution $u$. It means that different parts of the wave move at different speeds. Make a sketch of an initial wave and think about where the speed is higher and where it is lower ..."
   ]
  },
  {
   "cell_type": "markdown",
   "metadata": {},
   "source": [
    "## References\n",
    "\n",
    "* Elhage, Nelson (2015), [\"Indices point between elements\"](https://blog.nelhage.com/2015/08/indices-point-between-elements/)"
   ]
  },
  {
   "cell_type": "markdown",
   "metadata": {},
   "source": [
    "---\n",
    "\n",
    "###### The cell below loads the style of the notebook."
   ]
  },
  {
   "cell_type": "code",
   "execution_count": 2,
   "metadata": {
    "collapsed": false
   },
   "outputs": [],
   "source": [
    "#from IPython.core.display import HTML\n",
    "#css_file = '../../styles/numericalmoocstyle.css'\n",
    "#HTML(open(css_file, \"r\").read())"
   ]
  },
  {
   "cell_type": "code",
   "execution_count": null,
   "metadata": {
    "collapsed": true
   },
   "outputs": [],
   "source": []
  }
 ],
 "metadata": {
  "kernelspec": {
   "display_name": "Python 3",
   "language": "python",
   "name": "python3"
  },
  "language_info": {
   "codemirror_mode": {
    "name": "ipython",
    "version": 3
   },
   "file_extension": ".py",
   "mimetype": "text/x-python",
   "name": "python",
   "nbconvert_exporter": "python",
   "pygments_lexer": "ipython3",
   "version": "3.5.1"
  }
 },
 "nbformat": 4,
 "nbformat_minor": 0
}
