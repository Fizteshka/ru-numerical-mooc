{
 "cells": [
  {
   "cell_type": "code",
   "execution_count": 4,
   "metadata": {
    "collapsed": true
   },
   "outputs": [],
   "source": [
    "%matplotlib inline\n",
    "import matplotlib\n",
    "from matplotlib import pyplot \n",
    "import numpy as np\n",
    "from matplotlib import rcParams\n",
    "rcParams['font.family'] = 'serif'\n",
    "rcParams['font.size'] = 16\n"
   ]
  },
  {
   "cell_type": "markdown",
   "metadata": {},
   "source": [
    "# Постановка задачи\n",
    "\n",
    "Задача Римана для одномерной нестационарной системы уравнений Эйлера прелставлеяет собой задачу Коши для законов сохранения\n",
    "\n",
    "\\begin{equation}\n",
    "\\left . \n",
    "\\begin{array}{c}\n",
    "\\mathbf{U}_t + \\mathbf{F}(\\mathbf{U})_x = 0, \\\\\n",
    "\\mathbf{U} = \\left[\\begin{array}{c}\\rho \\\\ \\rho u  \\\\E \\end{array}\\right], \n",
    "\\mathbf{F} = \\left[\\begin{array}{c}\\rho u \\\\ \\rho u^2+p  \\\\ u(E+p) \\end{array}\\right],\n",
    "\\end{array}\n",
    "\\right\\}\n",
    "\\end{equation}"
   ]
  },
  {
   "cell_type": "markdown",
   "metadata": {},
   "source": [
    "с начальными условиями\n",
    "\n",
    "\\begin{equation}\n",
    "\\mathbf{U}(x,0)=\\mathbf{U}^{(0)}(x) = \n",
    "\\left \\{ \n",
    "\\begin{array}{c}\n",
    "\\mathbf{U}_L ~\\textrm{если} ~x<0, \\\\\n",
    "\\mathbf{U}_R ~\\textrm{если} ~x>0.\n",
    "\\end{array}\n",
    "\\right .\n",
    "\\end{equation}"
   ]
  },
  {
   "cell_type": "markdown",
   "metadata": {},
   "source": [
    "При решении задачи Римана будем использовать вектор примитивных переменных $\\mathbf{W} = (\\rho, u, p)^T$ вместо консервативных переменных (вектор $\\mathbf{U}$). Тогда начальные условия задаются в виде двух векторов $\\mathbf{W}_L = (\\rho_L, u_L, p_L)^T$ для области слева от $x=0$ и $\\mathbf{W}_R = (\\rho_R, u_R, p_R)^T$ для области справа от $x=0$, области разделены скачком в $x=0$. Нужно найти решение в области, обозначенной на рисунке как _Star Region_."
   ]
  },
  {
   "cell_type": "markdown",
   "metadata": {},
   "source": [
    "![Схема задачи Римана](./figures/star_region.png \"Схема задачи Римана\")"
   ]
  },
  {
   "cell_type": "markdown",
   "metadata": {},
   "source": [
    "Система уравнений замыкается уравнением состояния\n",
    "\n",
    "\\begin{equation}\n",
    "e = \\frac{p}{(\\gamma -1) \\rho}\n",
    "\\end{equation}"
   ]
  },
  {
   "cell_type": "markdown",
   "metadata": {},
   "source": [
    "# Уравнения для давления и скорости"
   ]
  },
  {
   "cell_type": "markdown",
   "metadata": {},
   "source": [
    "Согласно Торо, значение давления в интересующей нас области это корень алгебраического уравнения:\n",
    "\n",
    "\\begin{equation}\n",
    "f(p,\\mathbf{W}_L,\\mathbf{W}_R) \\equiv f_L(p,\\mathbf{W}_L) +f_R(p,\\mathbf{W}_R) + \\Delta u = 0, ~ \\Delta u \\equiv u_R - u_L,\n",
    "\\end{equation}\n",
    "\n",
    "где функция $f_L$ задается соотношением\n",
    "\n",
    "\\begin{equation}\n",
    "f_L(p,\\mathbf{W}_L) = \n",
    "\\left \\{ \n",
    "\\begin{array}{ll}\n",
    "(p-p_L)\\left[ \\frac{A_L}{p+B_L} \\right]^\\frac{1}{2} &~\\textrm{если} ~ p>p_L ~(скачок),& \\\\\n",
    "\\frac{2a_L}{(\\gamma-1)}\\left[ \\left(\\frac{p}{p_L} \\right)^\\frac{\\gamma-1}{2\\gamma} -1 \\right] &~\\textrm{если} ~p\\leq p_L ~(разрежение),&\n",
    "\\end{array}\n",
    "\\right .\n",
    "\\end{equation}\n",
    "\n",
    "функция $f_R$ задается соотношением\n",
    "\n",
    "\\begin{equation}\n",
    "f_R(p,\\mathbf{W}_R) = \n",
    "\\left \\{ \n",
    "\\begin{array}{ll}\n",
    "(p-p_R)\\left[ \\frac{A_R}{p+B_R} \\right]^\\frac{1}{2} &~\\textrm{если} ~ p>p_R ~(скачок),& \\\\\n",
    "\\frac{2a_R}{(\\gamma-1)}\\left[ \\left(\\frac{p}{p_R} \\right)^\\frac{\\gamma-1}{2\\gamma} -1 \\right] &~\\textrm{если} ~p\\leq p_R ~(разрежение),&\n",
    "\\end{array}\n",
    "\\right .\n",
    "\\end{equation}\n",
    "\n",
    "а константы $A_L,~B_L,~A_R,~B_R$ задаются как\n",
    "\n",
    "\\begin{equation}\n",
    "\\left .\n",
    "\\begin{array}{ll}\n",
    "A_L = \\frac{2}{(\\gamma+1)\\rho_L},~B_L = \\frac{(\\gamma -1)}{(\\gamma +1)}p_L,\\\\\n",
    "A_R = \\frac{2}{(\\gamma+1)\\rho_R},~B_R = \\frac{(\\gamma -1)}{(\\gamma +1)}p_R.\n",
    "\\end{array}\n",
    "\\right \\}\n",
    "\\end{equation}\n",
    "\n",
    "Скорость вычисляется из соотношения\n",
    "\\begin{equation}\n",
    "u_*=\\frac{1}{2}(u_L+u_R) + \\frac{1}{2}[f_R(p_*) - f_L(p_*)].\n",
    "\\end{equation}"
   ]
  },
  {
   "cell_type": "code",
   "execution_count": 8,
   "metadata": {
    "collapsed": false
   },
   "outputs": [],
   "source": [
    "def init(case):\n",
    "    if case == 'sod':\n",
    "        left_state = np.array([1.,0.,1.])\n",
    "        right_state = np.array([0.125,0.,0.1])\n",
    "    if case == '123':\n",
    "        left_state = np.array([1.,-2.,0.4])\n",
    "        right_state = np.array([1.,2.0,0.4])\n",
    "    return {'left':left_state,'right':right_state}"
   ]
  },
  {
   "cell_type": "code",
   "execution_count": 9,
   "metadata": {
    "collapsed": false
   },
   "outputs": [],
   "source": [
    "length = 1.     # Длина участка\n",
    "N = 1001        # Число ячеек\n",
    "x_dis = 0.5     #Положение разрыва\n",
    "gamma = 1.4     #Гамма, она же каппа\n",
    "t_out = 0.25     #Отрезок времени\n",
    "d_l, u_l, p_l = init('sod')['left']\n",
    "d_r, u_r, p_r = init('sod')['right']\n",
    "\n"
   ]
  },
  {
   "cell_type": "code",
   "execution_count": 10,
   "metadata": {
    "collapsed": true
   },
   "outputs": [],
   "source": [
    "#Различные формулы из гаммы\n",
    "g_m_1_over_2g = (gamma-1)/2/gamma      #g1\n",
    "g_p_1_over_2g = (gamma+1)/2/gamma      #g2\n",
    "g_m_1_over_2g_inv = 1/g_m_1_over_2g    #g3\n",
    "g_m_1_over_2_inv = 2/(gamma-1)         #g4\n",
    "g_p_1_over_2_inv = 2/(gamma+1)         #g5\n",
    "g_m_1_over_g_p_1 = (gamma-1)/(gamma+1) #g6\n",
    "g_m_1_over_2 = (gamma-1)/2             #g7\n",
    "g_m_1 = gamma-1                        #g8"
   ]
  },
  {
   "cell_type": "code",
   "execution_count": 11,
   "metadata": {
    "collapsed": false
   },
   "outputs": [],
   "source": [
    "#Скорости звука справа и слева\n",
    "c_l = (gamma*p_l/d_l)**0.5\n",
    "c_r = (gamma*p_r/d_r)**0.5"
   ]
  },
  {
   "cell_type": "code",
   "execution_count": 13,
   "metadata": {
    "collapsed": false
   },
   "outputs": [],
   "source": [
    "def calc_f(p,d_k,p_k,c_k):\n",
    "    if p <= p_k:\n",
    "        #Волна разрежения\n",
    "        ratio_p = p/p_k\n",
    "        f = g_m_1_over_2_inv*c_k*(ratio_p**g_m_1_over_2g-1)\n",
    "        f_deriv = (1./(d_k*c_k))*ratio_p**(-g_p_1_over_2g)\n",
    "    else:\n",
    "        #Скачок уплотнения\n",
    "        A_K = g_p_1_over_2_inv/d_k\n",
    "        B_K = g_m_1_over_g_p_1*p_k\n",
    "        f = (p-p_k)*(A_K/(B_K+p))**0.5\n",
    "        f_deriv = (1-0.5*(p-p_k)/(B_K+p))*(A_K/(B_K+p))**0.5\n",
    "    return f,f_deriv"
   ]
  },
  {
   "cell_type": "code",
   "execution_count": 14,
   "metadata": {
    "collapsed": true
   },
   "outputs": [],
   "source": [
    "def guess_p(d_l, u_l, p_l,c_l,d_r, u_r, p_r, c_r):\n",
    "    \n",
    "    q_temp = 2.0\n",
    "    \n",
    "    p_pv = np.max(0.0, 0.5*(p_l+p_r)-0.125*(u_r-u_l)*(d_l+d_r)*(c_l+c_r))\n",
    "    p_min = np.min(p_l,p_r)\n",
    "    p_max = np.max(p_l,p_r)\n",
    "    q_max = p_max/p_min\n",
    "    \n",
    "    if q_max <= q_temp and p_min<=p_pv<=p_max:\n",
    "        #PVRS (приближение по примитивным переменным)\n",
    "        p_m = p_pv\n",
    "    \n",
    "    elif p_pv < p_min:\n",
    "        #Приближение двух волн разрежения\n",
    "        p_m = ( (c_l+c_r-0.5*g_m_1*(u_r-u_l))/(c_l/p_l**g_m_1_over_2g + c_r/p_r**g_m_1_over_2g) )**g_m_1_over_2g_inv\n",
    "    else:\n",
    "        #Приближение двух скачков\n",
    "        g_l = ((g_p_1_over_2_inv/d_l)/(g_m_1_over_g_p_1*p_l+p_pv))**0.5\n",
    "        g_r = ((g_p_1_over_2_inv/d_r)/(g_m_1_over_g_p_1*p_r+p_pv))**0.5\n",
    "        p_m = (g_l*p_l+g_r*p_r - (u_r-u_l))/(g_l+g_r)\n",
    "        \n",
    "        \n",
    "    return p_m\n",
    "        \n",
    "        \n"
   ]
  },
  {
   "cell_type": "code",
   "execution_count": null,
   "metadata": {
    "collapsed": true
   },
   "outputs": [],
   "source": [
    "def sample(d_l, u_l, p_l,c_l,d_r, u_r, p_r, c_r, p_m, u_m, s):\n",
    "    if s<= u_m:\n",
    "        #точка лежит слева от контактного разрыва\n",
    "        if p_m <= p_l: #волна разрежения\n",
    "            \n",
    "    "
   ]
  },
  {
   "cell_type": "code",
   "execution_count": 2,
   "metadata": {
    "collapsed": false
   },
   "outputs": [
    {
     "data": {
      "text/html": [
       "<link href='http://fonts.googleapis.com/css?family=Alegreya+Sans:100,300,400,500,700,800,900,100italic,300italic,400italic,500italic,700italic,800italic,900italic' rel='stylesheet' type='text/css'>\n",
       "<link href='http://fonts.googleapis.com/css?family=Arvo:400,700,400italic' rel='stylesheet' type='text/css'>\n",
       "<link href='http://fonts.googleapis.com/css?family=PT+Mono' rel='stylesheet' type='text/css'>\n",
       "<link href='http://fonts.googleapis.com/css?family=Shadows+Into+Light' rel='stylesheet' type='text/css'>\n",
       "<link href='http://fonts.googleapis.com/css?family=Nixie+One' rel='stylesheet' type='text/css'>\n",
       "<link href='https://fonts.googleapis.com/css?family=Source+Code+Pro' rel='stylesheet' type='text/css'>\n",
       "<style>\n",
       "\n",
       "@font-face {\n",
       "    font-family: \"Computer Modern\";\n",
       "    src: url('http://mirrors.ctan.org/fonts/cm-unicode/fonts/otf/cmunss.otf');\n",
       "}\n",
       "\n",
       "#notebook_panel { /* main background */\n",
       "    background: rgb(245,245,245);\n",
       "}\n",
       "\n",
       "div.cell { /* set cell width */\n",
       "    width: 750px;\n",
       "}\n",
       "\n",
       "div #notebook { /* centre the content */\n",
       "    background: #fff; /* white background for content */\n",
       "    width: 1000px;\n",
       "    margin: auto;\n",
       "    padding-left: 0em;\n",
       "}\n",
       "\n",
       "#notebook li { /* More space between bullet points */\n",
       "    margin-top:0.8em;\n",
       "}\n",
       "\n",
       "/* draw border around running cells */\n",
       "div.cell.border-box-sizing.code_cell.running { \n",
       "    border: 1px solid #111;\n",
       "}\n",
       "\n",
       "/* Put a solid color box around each cell and its output, visually linking them*/\n",
       "div.cell.code_cell {\n",
       "    background-color: rgb(256,256,256); \n",
       "    border-radius: 0px; \n",
       "    padding: 0.5em;\n",
       "    margin-left:1em;\n",
       "    margin-top: 1em;\n",
       "}\n",
       "\n",
       "div.text_cell_render{\n",
       "    font-family: 'Alegreya Sans' sans-serif;\n",
       "    line-height: 140%;\n",
       "    font-size: 125%;\n",
       "    font-weight: 400;\n",
       "    width:600px;\n",
       "    margin-left:auto;\n",
       "    margin-right:auto;\n",
       "}\n",
       "\n",
       "\n",
       "/* Formatting for header cells */\n",
       ".text_cell_render h1 {\n",
       "    font-family: 'Nixie One', serif;\n",
       "    font-style:regular;\n",
       "    font-weight: 400;    \n",
       "    font-size: 45pt;\n",
       "    line-height: 100%;\n",
       "    color: rgb(0,51,102);\n",
       "    margin-bottom: 0.5em;\n",
       "    margin-top: 0.5em;\n",
       "    display: block;\n",
       "}\n",
       "\n",
       ".text_cell_render h2 {\n",
       "    font-family: 'Nixie One', serif;\n",
       "    font-weight: 400;\n",
       "    font-size: 30pt;\n",
       "    line-height: 100%;\n",
       "    color: rgb(0,51,102);\n",
       "    margin-bottom: 0.1em;\n",
       "    margin-top: 0.3em;\n",
       "    display: block;\n",
       "}\t\n",
       "\n",
       ".text_cell_render h3 {\n",
       "    font-family: 'Nixie One', serif;\n",
       "    margin-top:16px;\n",
       "    font-size: 22pt;\n",
       "    font-weight: 600;\n",
       "    margin-bottom: 3px;\n",
       "    font-style: regular;\n",
       "    color: rgb(102,102,0);\n",
       "}\n",
       "\n",
       ".text_cell_render h4 {    /*Use this for captions*/\n",
       "    font-family: 'Nixie One', serif;\n",
       "    font-size: 14pt;\n",
       "    text-align: center;\n",
       "    margin-top: 0em;\n",
       "    margin-bottom: 2em;\n",
       "    font-style: regular;\n",
       "}\n",
       "\n",
       ".text_cell_render h5 {  /*Use this for small titles*/\n",
       "    font-family: 'Nixie One', sans-serif;\n",
       "    font-weight: 400;\n",
       "    font-size: 16pt;\n",
       "    color: rgb(163,0,0);\n",
       "    font-style: italic;\n",
       "    margin-bottom: .1em;\n",
       "    margin-top: 0.8em;\n",
       "    display: block;\n",
       "}\n",
       "\n",
       ".text_cell_render h6 { /*use this for copyright note*/\n",
       "    font-family: 'PT Mono', sans-serif;\n",
       "    font-weight: 300;\n",
       "    font-size: 9pt;\n",
       "    line-height: 100%;\n",
       "    color: grey;\n",
       "    margin-bottom: 1px;\n",
       "    margin-top: 1px;\n",
       "}\n",
       "\n",
       ".CodeMirror{\n",
       "    font-family: \"Source Code Pro\";\n",
       "    font-size: 90%;\n",
       "}\n",
       "\n",
       ".alert-box {\n",
       "    padding:10px 10px 10px 36px;\n",
       "    margin:5px;\n",
       "}\n",
       "\n",
       ".success {\n",
       "    color:#666600;\n",
       "    background:rgb(240,242,229);\n",
       "}\n",
       "</style>\n",
       "<script>\n",
       "    MathJax.Hub.Config({\n",
       "                        TeX: {\n",
       "                           extensions: [\"AMSmath.js\"],\n",
       "                           equationNumbers: { autoNumber: \"AMS\", useLabelIds: true}\n",
       "                           },\n",
       "                tex2jax: {\n",
       "                    inlineMath: [ ['$','$'], [\"\\\\(\",\"\\\\)\"] ],\n",
       "                    displayMath: [ ['$$','$$'], [\"\\\\[\",\"\\\\]\"] ]\n",
       "                },\n",
       "                displayAlign: 'center', // Change this to 'center' to center equations.\n",
       "                \"HTML-CSS\": {\n",
       "                    styles: {'.MathJax_Display': {\"margin\": 4}}\n",
       "                }\n",
       "        });\n",
       "</script>\n"
      ],
      "text/plain": [
       "<IPython.core.display.HTML object>"
      ]
     },
     "execution_count": 2,
     "metadata": {},
     "output_type": "execute_result"
    }
   ],
   "source": [
    "from IPython.core.display import HTML\n",
    "css_file = '../../styles/numericalmoocstyle.css'\n",
    "HTML(open(css_file, \"r\").read())"
   ]
  },
  {
   "cell_type": "code",
   "execution_count": null,
   "metadata": {
    "collapsed": true
   },
   "outputs": [],
   "source": []
  }
 ],
 "metadata": {
  "kernelspec": {
   "display_name": "Python [Root]",
   "language": "python",
   "name": "Python [Root]"
  },
  "language_info": {
   "codemirror_mode": {
    "name": "ipython",
    "version": 3
   },
   "file_extension": ".py",
   "mimetype": "text/x-python",
   "name": "python",
   "nbconvert_exporter": "python",
   "pygments_lexer": "ipython3",
   "version": "3.5.2"
  }
 },
 "nbformat": 4,
 "nbformat_minor": 0
}
